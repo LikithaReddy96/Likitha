{
  "nbformat": 4,
  "nbformat_minor": 0,
  "metadata": {
    "colab": {
      "provenance": [],
      "authorship_tag": "ABX9TyO80cxjm26kH5g3NewkpaPr",
      "include_colab_link": true
    },
    "kernelspec": {
      "name": "python3",
      "display_name": "Python 3"
    },
    "language_info": {
      "name": "python"
    }
  },
  "cells": [
    {
      "cell_type": "markdown",
      "metadata": {
        "id": "view-in-github",
        "colab_type": "text"
      },
      "source": [
        "<a href=\"https://colab.research.google.com/github/LikithaReddy96/Likitha/blob/main/PART%201.ipynb\" target=\"_parent\"><img src=\"https://colab.research.google.com/assets/colab-badge.svg\" alt=\"Open In Colab\"/></a>"
      ]
    },
    {
      "cell_type": "code",
      "execution_count": 1,
      "metadata": {
        "colab": {
          "base_uri": "https://localhost:8080/"
        },
        "id": "0S0Jp9ouIBRB",
        "outputId": "e68212fe-01cd-4deb-c82b-1fd006e06d0e"
      },
      "outputs": [
        {
          "output_type": "execute_result",
          "data": {
            "text/plain": [
              "array([1, 2, 3])"
            ]
          },
          "metadata": {},
          "execution_count": 1
        }
      ],
      "source": [
        "import numpy as np\n",
        "a = [1,2,3,]\n",
        "b = [4,5,6]\n",
        "c = np.array(a)\n",
        "c"
      ]
    },
    {
      "cell_type": "code",
      "source": [
        "d = np.array(b)\n",
        "d"
      ],
      "metadata": {
        "colab": {
          "base_uri": "https://localhost:8080/"
        },
        "id": "kP5v2JFoIe3G",
        "outputId": "882045eb-2451-4035-cae5-23cce4aa7ef0"
      },
      "execution_count": 2,
      "outputs": [
        {
          "output_type": "execute_result",
          "data": {
            "text/plain": [
              "array([4, 5, 6])"
            ]
          },
          "metadata": {},
          "execution_count": 2
        }
      ]
    },
    {
      "cell_type": "code",
      "source": [
        "type(a)"
      ],
      "metadata": {
        "colab": {
          "base_uri": "https://localhost:8080/"
        },
        "id": "5EVlDwCLInds",
        "outputId": "dfa43fc4-8e92-4eba-f585-1469880113da"
      },
      "execution_count": 3,
      "outputs": [
        {
          "output_type": "execute_result",
          "data": {
            "text/plain": [
              "list"
            ]
          },
          "metadata": {},
          "execution_count": 3
        }
      ]
    },
    {
      "cell_type": "code",
      "source": [
        "type(b)"
      ],
      "metadata": {
        "colab": {
          "base_uri": "https://localhost:8080/"
        },
        "id": "6P-P2sVNIwQJ",
        "outputId": "2d8f7d45-913f-4751-85ae-1384bcc1802b"
      },
      "execution_count": 4,
      "outputs": [
        {
          "output_type": "execute_result",
          "data": {
            "text/plain": [
              "list"
            ]
          },
          "metadata": {},
          "execution_count": 4
        }
      ]
    },
    {
      "cell_type": "code",
      "source": [
        "type(c)"
      ],
      "metadata": {
        "colab": {
          "base_uri": "https://localhost:8080/"
        },
        "id": "TQ25x5N3IzOs",
        "outputId": "8f03c5c3-696b-415f-917f-c33b9c0e6064"
      },
      "execution_count": 5,
      "outputs": [
        {
          "output_type": "execute_result",
          "data": {
            "text/plain": [
              "numpy.ndarray"
            ]
          },
          "metadata": {},
          "execution_count": 5
        }
      ]
    },
    {
      "cell_type": "code",
      "source": [
        "type(d)"
      ],
      "metadata": {
        "colab": {
          "base_uri": "https://localhost:8080/"
        },
        "id": "At36o8KqI29T",
        "outputId": "3aa6f35a-aace-454b-fe2d-3afa4ccd786e"
      },
      "execution_count": 6,
      "outputs": [
        {
          "output_type": "execute_result",
          "data": {
            "text/plain": [
              "numpy.ndarray"
            ]
          },
          "metadata": {},
          "execution_count": 6
        }
      ]
    },
    {
      "cell_type": "code",
      "source": [
        "print(f'multiplication of {c} and {d}',c*d)\n",
        "print(f'division of {c} and {d}',c/d)\n",
        "print(f'powerpff pf {c} and {d}',c**d)"
      ],
      "metadata": {
        "colab": {
          "base_uri": "https://localhost:8080/"
        },
        "id": "t6-Mb4FPI_Wf",
        "outputId": "967a456f-412e-42ff-ae81-c5fb1004a81a"
      },
      "execution_count": 7,
      "outputs": [
        {
          "output_type": "stream",
          "name": "stdout",
          "text": [
            "multiplication of [1 2 3] and [4 5 6] [ 4 10 18]\n",
            "division of [1 2 3] and [4 5 6] [0.25 0.4  0.5 ]\n",
            "powerpff pf [1 2 3] and [4 5 6] [  1  32 729]\n"
          ]
        }
      ]
    },
    {
      "cell_type": "code",
      "source": [
        "print(f'Addition of Two:{c}+{d}-',c+d)"
      ],
      "metadata": {
        "colab": {
          "base_uri": "https://localhost:8080/"
        },
        "id": "sGWSDhW8JD_v",
        "outputId": "516621a0-adfe-4fd4-8c7b-45d4bae7a58c"
      },
      "execution_count": 9,
      "outputs": [
        {
          "output_type": "stream",
          "name": "stdout",
          "text": [
            "Addition of Two:[1 2 3]+[4 5 6]- [5 7 9]\n"
          ]
        }
      ]
    },
    {
      "cell_type": "code",
      "source": [
        "s = print(f'Sin value of a:',np.sin(a))\n",
        "l1 = print(f'logarithm value of a:',np.log(a))\n",
        "l2 = print(f'logrithm valu of b:',np.log2(b))\n",
        "e = print(f'exponential value of b :',np.exp(b))"
      ],
      "metadata": {
        "colab": {
          "base_uri": "https://localhost:8080/"
        },
        "id": "ofe6akhIJONM",
        "outputId": "4bb555be-64d4-4dc0-b229-bbb4b05d1596"
      },
      "execution_count": 10,
      "outputs": [
        {
          "output_type": "stream",
          "name": "stdout",
          "text": [
            "Sin value of a: [0.84147098 0.90929743 0.14112001]\n",
            "logarithm value of a: [0.         0.69314718 1.09861229]\n",
            "logrithm valu of b: [2.         2.32192809 2.5849625 ]\n",
            "exponential value of b : [ 54.59815003 148.4131591  403.42879349]\n"
          ]
        }
      ]
    }
  ]
}